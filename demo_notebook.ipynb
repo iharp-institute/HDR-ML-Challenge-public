{
 "cells": [
  {
   "cell_type": "code",
   "execution_count": 20,
   "metadata": {},
   "outputs": [],
   "source": [
    "import os\n",
    "import netCDF4\n",
    "import numpy as np\n",
    "import pandas as pd\n",
    "import matplotlib.pyplot as plt"
   ]
  },
  {
   "cell_type": "code",
   "execution_count": 21,
   "metadata": {},
   "outputs": [],
   "source": [
    "# Define the path to the .nc file\n",
    "file_path = r\"D:\\Data\\iharp_training_dataset\\Copernicus_ENA_training_data\\19930101.nc\""
   ]
  },
  {
   "cell_type": "code",
   "execution_count": 22,
   "metadata": {},
   "outputs": [],
   "source": [
    "# Open the .nc file\n",
    "dataset = netCDF4.Dataset(file_path, mode=\"r\")"
   ]
  },
  {
   "cell_type": "code",
   "execution_count": 23,
   "metadata": {},
   "outputs": [
    {
     "name": "stdout",
     "output_type": "stream",
     "text": [
      "<class 'netCDF4.Dataset'>\n",
      "root group (NETCDF4 data model, file format HDF5):\n",
      "    Conventions: CF-1.6\n",
      "    Metadata_Conventions: Unidata Dataset Discovery v1.0\n",
      "    cdm_data_type: Grid\n",
      "    comment: Sea Surface Height measured by Altimetry and derived variables\n",
      "    contact: http://climate.copernicus.eu/c3s-user-service-desk\n",
      "    creator_email: http://climate.copernicus.eu/c3s-user-service-desk\n",
      "    creator_name: Copernicus Climate Change Service (C3S)\n",
      "    creator_url: http://climate.copernicus.eu\n",
      "    date_created: 2021-07-09T08:53:57Z\n",
      "    date_issued: 2021-07-09T08:53:57Z\n",
      "    date_modified: 2021-07-09T08:53:57Z\n",
      "    geospatial_lat_max: 89.875\n",
      "    geospatial_lat_min: -89.875\n",
      "    geospatial_lat_resolution: 0.25\n",
      "    geospatial_lat_units: degrees_north\n",
      "    geospatial_lon_max: 179.875\n",
      "    geospatial_lon_min: -179.875\n",
      "    geospatial_lon_resolution: 0.25\n",
      "    geospatial_lon_units: degrees_east\n",
      "    geospatial_vertical_max: 0.0\n",
      "    geospatial_vertical_min: 0.0\n",
      "    geospatial_vertical_positive: down\n",
      "    geospatial_vertical_resolution: point\n",
      "    geospatial_vertical_units: m\n",
      "    history: 2021-07-09 08:53:58Z: Creation\n",
      "    institution: CLS, CNES\n",
      "    keywords: Oceans > Ocean Topography > Sea Surface Height\n",
      "    keywords_vocabulary: NetCDF COARDS Climate and Forecast Standard Names\n",
      "    license: http://climate.copernicus.eu/c3s-user-service-desk\n",
      "    platform: ERS-1, Topex/Poseidon,\n",
      "    processing_level: L4\n",
      "    product_version: vDec2021\n",
      "    project: Copernicus Climate Change Service (C3S)\n",
      "    references: http://climate.copernicus.eu\n",
      "    software_version: 7.0_DUACS_DT2021_baseline\n",
      "    source: Altimetry measurements\n",
      "    ssalto_duacs_comment: The reference mission used for the altimeter inter-calibration processing is Topex/Poseidon between 1993-01-01 and 2002-04-23, Jason-1 between 2002-04-24 and 2008-10-18, OSTM/Jason-2 between 2008-10-19 and 2016-06-25, Jason-3 since 2016-06-25.\n",
      "    standard_name_vocabulary: NetCDF Climate and Forecast (CF) Metadata Convention Standard Name Table v37\n",
      "    summary: SSALTO/DUACS Delayed-Time Level-4 sea surface height and derived variables measured by multi-satellite altimetry observations over Global Ocean.\n",
      "    time_coverage_duration: P1D\n",
      "    time_coverage_end: 1993-01-01T12:00:00Z\n",
      "    time_coverage_resolution: P1D\n",
      "    time_coverage_start: 1992-12-31T12:00:00Z\n",
      "    title: DT merged two satellites Global Ocean Gridded SSALTO/DUACS Sea Surface Height L4 product and derived variables\n",
      "    dimensions(sizes): time(1), latitude(100), nv(2), longitude(160)\n",
      "    variables(dimensions): int32 crs(), float32 time(time), float32 latitude(latitude), float32 lat_bnds(latitude, nv), float32 longitude(longitude), float32 lon_bnds(longitude, nv), int32 nv(nv), int32 sla(time, latitude, longitude), int32 err_sla(time, latitude, longitude), int32 ugosa(time, latitude, longitude), int32 err_ugosa(time, latitude, longitude), int32 vgosa(time, latitude, longitude), int32 err_vgosa(time, latitude, longitude), int32 adt(time, latitude, longitude), int32 ugos(time, latitude, longitude), int32 vgos(time, latitude, longitude), int32 tpa_correction(time), int32 flag_ice(time, latitude, longitude)\n",
      "    groups: \n"
     ]
    }
   ],
   "source": [
    "print(dataset)"
   ]
  },
  {
   "cell_type": "code",
   "execution_count": 24,
   "metadata": {},
   "outputs": [],
   "source": [
    "output_file_path = r\"./19930101_info.txt\"\n",
    "# Save detailed information about the contents of the file to a text file\n",
    "with open(output_file_path, \"w\") as f:\n",
    "    f.write(str(dataset))"
   ]
  },
  {
   "cell_type": "code",
   "execution_count": 25,
   "metadata": {},
   "outputs": [
    {
     "name": "stdout",
     "output_type": "stream",
     "text": [
      "[[[-- -- -- ... -0.0594 -0.062400000000000004 -0.066]\n",
      "  [-- -- -- ... -0.051300000000000005 -0.0579 -0.0623]\n",
      "  [-- -- -- ... -0.0506 -0.057800000000000004 -0.0625]\n",
      "  ...\n",
      "  [-- -- -- ... -0.007200000000000001 -0.015000000000000001\n",
      "   -0.023100000000000002]\n",
      "  [-- -- -- ... -0.0048000000000000004 -0.010100000000000001 -0.0176]\n",
      "  [-- -- -- ... -0.0091 -0.009300000000000001 -0.0176]]]\n"
     ]
    }
   ],
   "source": [
    "# Extract the 'sla' (Sea level Anomaly) variable\n",
    "sla = dataset.variables[\"sla\"][:]\n",
    "print(sla)"
   ]
  },
  {
   "cell_type": "code",
   "execution_count": 26,
   "metadata": {},
   "outputs": [
    {
     "name": "stdout",
     "output_type": "stream",
     "text": [
      "Maximum SLA: 0.7465\n"
     ]
    }
   ],
   "source": [
    "# Calculate and print the max of all values stored in sla\n",
    "max_sla = np.max(sla)\n",
    "print(f\"Maximum SLA: {max_sla}\")"
   ]
  },
  {
   "cell_type": "code",
   "execution_count": 27,
   "metadata": {},
   "outputs": [
    {
     "name": "stdout",
     "output_type": "stream",
     "text": [
      "Minimum SLA: -0.6945\n"
     ]
    }
   ],
   "source": [
    "# Calculate and print the min of all values stored in sla\n",
    "min_sla = np.min(sla)\n",
    "print(f\"Minimum SLA: {min_sla}\")"
   ]
  },
  {
   "cell_type": "code",
   "execution_count": 28,
   "metadata": {},
   "outputs": [
    {
     "name": "stdout",
     "output_type": "stream",
     "text": [
      "Average SLA: -0.0027686967632027265\n"
     ]
    }
   ],
   "source": [
    "# Calculate and print the average of all values stored in sla\n",
    "average_sla = np.mean(sla)\n",
    "print(f\"Average SLA: {average_sla}\")"
   ]
  },
  {
   "cell_type": "code",
   "execution_count": 29,
   "metadata": {},
   "outputs": [],
   "source": [
    "# Extract the latitude and longitude\n",
    "latitude = dataset.variables[\"latitude\"][:]\n",
    "longitude = dataset.variables[\"longitude\"][:]"
   ]
  },
  {
   "cell_type": "code",
   "execution_count": 30,
   "metadata": {},
   "outputs": [],
   "source": [
    "# Close the dataset\n",
    "dataset.close()"
   ]
  },
  {
   "cell_type": "code",
   "execution_count": 31,
   "metadata": {},
   "outputs": [
    {
     "data": {
      "image/png": "[encoded data removed]",
      "text/plain": [
       "<Figure size 1000x600 with 2 Axes>"
      ]
     },
     "metadata": {},
     "output_type": "display_data"
    }
   ],
   "source": [
    "# Create a meshgrid for plotting\n",
    "lon, lat = np.meshgrid(longitude, latitude)\n",
    "\n",
    "# Plot the 'sla' variable\n",
    "plt.figure(figsize=(10, 6))\n",
    "plt.contourf(lon, lat, sla[0, :, :], cmap=\"viridis\")\n",
    "plt.colorbar(label=\"Sea Level Anomaly (m)\")\n",
    "plt.xlabel(\"Longitude\")\n",
    "plt.ylabel(\"Latitude\")\n",
    "plt.title(\"Sea Level Anomaly on 1993-01-01\")\n",
    "plt.show()"
   ]
  },
  {
   "cell_type": "code",
   "execution_count": 32,
   "metadata": {},
   "outputs": [],
   "source": [
    "# Define the directory containing the .nc files\n",
    "directory = r\"D:\\Data\\iharp_training_dataset\\Copernicus_ENA_training_data\""
   ]
  },
  {
   "cell_type": "code",
   "execution_count": 33,
   "metadata": {},
   "outputs": [],
   "source": [
    "# Initialize a list to store the results\n",
    "results = []"
   ]
  },
  {
   "cell_type": "code",
   "execution_count": 34,
   "metadata": {},
   "outputs": [],
   "source": [
    "# Iterate over all files in the directory\n",
    "for filename in os.listdir(directory):\n",
    "    if filename.endswith(\".nc\"):\n",
    "        file_path = os.path.join(directory, filename)\n",
    "\n",
    "        # Extract the date part from the filename and format it\n",
    "        date_str = filename.split(\".\")[0]\n",
    "        if len(date_str) == 8:\n",
    "            formatted_date = f\"{date_str[4:6]}-{date_str[6:8]}-{date_str[:4]}\"\n",
    "\n",
    "            # Open the .nc file\n",
    "            dataset = netCDF4.Dataset(file_path, mode=\"r\")\n",
    "\n",
    "            # Extract the 'sla' variable\n",
    "            sla = dataset.variables[\"sla\"][:]\n",
    "\n",
    "            # Calculate the average of all values stored in sla\n",
    "            average_sla = np.mean(sla)\n",
    "\n",
    "            # Determine the value for the additional columns\n",
    "            value = 1 if average_sla >= 0 else 0\n",
    "\n",
    "            # Append the result to the list\n",
    "            results.append([formatted_date, average_sla] + [value] * 12)\n",
    "\n",
    "            # Close the dataset\n",
    "            dataset.close()"
   ]
  },
  {
   "cell_type": "code",
   "execution_count": 35,
   "metadata": {},
   "outputs": [],
   "source": [
    "# Create a DataFrame from the results\n",
    "columns = [\n",
    "    \"Date\",\n",
    "    \"Average_SLA\",\n",
    "    \"Atlantic City\",\n",
    "    \"Baltimore\",\n",
    "    \"Eastport\",\n",
    "    \"Fort Pulaski\",\n",
    "    \"Lewes\",\n",
    "    \"New London\",\n",
    "    \"Newport\",\n",
    "    \"Portland\",\n",
    "    \"Sandy Hook\",\n",
    "    \"Sewells Point\",\n",
    "    \"The Battery\",\n",
    "    \"Washington\",\n",
    "]\n",
    "results_df = pd.DataFrame(results, columns=columns)"
   ]
  },
  {
   "cell_type": "code",
   "execution_count": 36,
   "metadata": {},
   "outputs": [],
   "source": [
    "# Remove the Average_SLA column\n",
    "results_df = results_df.drop(columns=[\"Average_SLA\"])"
   ]
  },
  {
   "cell_type": "code",
   "execution_count": 37,
   "metadata": {},
   "outputs": [],
   "source": [
    "# Define the path to the output CSV file\n",
    "output_csv_path = r\"D:\\Git\\ML-challenge\\baseline\\demo_sla.csv\""
   ]
  },
  {
   "cell_type": "code",
   "execution_count": 38,
   "metadata": {},
   "outputs": [],
   "source": [
    "# Save the DataFrame to a CSV file\n",
    "results_df.to_csv(output_csv_path, index=False)"
   ]
  }
 ],
 "metadata": {
  "kernelspec": {
   "display_name": "lightning-env",
   "language": "python",
   "name": "python3"
  },
  "language_info": {
   "codemirror_mode": {
    "name": "ipython",
    "version": 3
   },
   "file_extension": ".py",
   "mimetype": "text/x-python",
   "name": "python",
   "nbconvert_exporter": "python",
   "pygments_lexer": "ipython3",
   "version": "3.12.5"
  }
 },
 "nbformat": 4,
 "nbformat_minor": 2
}
